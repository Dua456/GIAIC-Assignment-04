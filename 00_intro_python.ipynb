{
  "nbformat": 4,
  "nbformat_minor": 0,
  "metadata": {
    "colab": {
      "provenance": [],
      "authorship_tag": "ABX9TyOkkc0750A4Vb7mqZO/Q6wt",
      "include_colab_link": true
    },
    "kernelspec": {
      "name": "python3",
      "display_name": "Python 3"
    },
    "language_info": {
      "name": "python"
    }
  },
  "cells": [
    {
      "cell_type": "markdown",
      "metadata": {
        "id": "view-in-github",
        "colab_type": "text"
      },
      "source": [
        "<a href=\"https://colab.research.google.com/github/Dua456/GIAIC-Assignment-04/blob/main/00_intro_python.ipynb\" target=\"_parent\"><img src=\"https://colab.research.google.com/assets/colab-badge.svg\" alt=\"Open In Colab\"/></a>"
      ]
    },
    {
      "cell_type": "code",
      "source": [
        "print(\"01_add_two_numbers\")\n",
        "\n",
        "def main():\n",
        "  print(\"This program adds two numbers.\")\n",
        "  num1 : str = input(\"Enter your first_number: \")\n",
        "  num1 : int = int(num1)\n",
        "  num2 : str = input(\"Enter your second_number: \")\n",
        "  num2 : int = int(num2)\n",
        "  sum : int = num1 + num2\n",
        "  print(\"The sum of\", num1, \"and\", num2, \"is\", sum)\n",
        "\n",
        "if __name__ == \"__main__\":\n",
        "  main()"
      ],
      "metadata": {
        "colab": {
          "base_uri": "https://localhost:8080/"
        },
        "id": "dB1upY-eO7el",
        "outputId": "42fe20cf-49f0-4e8f-aa75-f73cd21f25eb"
      },
      "execution_count": 14,
      "outputs": [
        {
          "output_type": "stream",
          "name": "stdout",
          "text": [
            "01_add_two_numbers\n",
            "This program adds two numbers.\n",
            "Enter your first_number:5\n",
            "Enter your second_number:5\n",
            "The sum of 5 and 5 is 10\n"
          ]
        }
      ]
    },
    {
      "cell_type": "code",
      "source": [
        "print(\"02_agreement_bot\")\n",
        "\n",
        "def main():\n",
        "  print(\"This is an agrremant bot which always agrees with the user :)\")\n",
        "  user_input :str = input(\"What's your favorite animal ? \")\n",
        "  print(f\"My favorite animal is Also {user_input} \")\n",
        "\n",
        "if __name__ == \"__main__\":\n",
        "  main()"
      ],
      "metadata": {
        "colab": {
          "base_uri": "https://localhost:8080/"
        },
        "id": "Qsxr13PNQKDJ",
        "outputId": "b48fbfbe-4f5a-468a-ed2b-8e335d836cd5"
      },
      "execution_count": 17,
      "outputs": [
        {
          "output_type": "stream",
          "name": "stdout",
          "text": [
            "02_agreement_bot\n",
            "This is an agrremant bot which always agrees with the user :)\n",
            "What's your favorite animal ?cat\n",
            "My favorite animal is Also cat \n"
          ]
        }
      ]
    },
    {
      "cell_type": "code",
      "source": [
        "print(\"03_fahrenheit_to_celsius\")\n",
        "\n",
        "def main():\n",
        "  print(\"This is program to convert temperature from fahrenheit to degree celsius\")\n",
        "  degree_fahrenheit : str = float(input(\"Enter temperature in fahrenheit :\"))\n",
        "  degree_celsius = (degree_fahrenheit-32)*5.0/9.0\n",
        "  print(f\"Temperature in degree celsius is : {degree_celsius} C\")\n",
        "\n",
        "if __name__ == \"__main__\":\n",
        "  main()"
      ],
      "metadata": {
        "colab": {
          "base_uri": "https://localhost:8080/"
        },
        "id": "0ZddirUoRY2e",
        "outputId": "b74f7b45-0406-4c15-d966-f1b9dd0e369f"
      },
      "execution_count": 21,
      "outputs": [
        {
          "output_type": "stream",
          "name": "stdout",
          "text": [
            "03_fahrenheit_to_celsius\n",
            "This is program to convert temperature fron fahrenheit to degree celsiua\n",
            "Enter temperature in fahrenheit :7\n",
            "Temperature in degree celsius is : -13.88888888888889 C\n"
          ]
        }
      ]
    },
    {
      "cell_type": "code",
      "source": [
        "print(\"04_how_old_are_they\")\n",
        "\n",
        "def main():\n",
        "    anton : int = 21\n",
        "    beth : int = 6 + anton\n",
        "    chen : int = 20 + beth\n",
        "    drew  : int= chen + anton\n",
        "    ethan : int = chen\n",
        "\n",
        "\n",
        "    print(\"Anton is \" + str(anton))\n",
        "    print(\"Beth is \" + str(beth))\n",
        "    print(\"Chen is \" + str(chen))\n",
        "    print(\"Drew is \" + str(drew))\n",
        "    print(\"Ethan is \" + str(ethan))\n",
        "\n",
        "\n",
        "if __name__ == \"__main__\":\n",
        "  main()"
      ],
      "metadata": {
        "colab": {
          "base_uri": "https://localhost:8080/"
        },
        "id": "VK-iSop6Uutw",
        "outputId": "5730a994-ebdf-4526-d420-350bd8aa1bc6"
      },
      "execution_count": 24,
      "outputs": [
        {
          "output_type": "stream",
          "name": "stdout",
          "text": [
            "04_how_old_are_they\n",
            "Anton is 21\n",
            "Beth is 27\n",
            "Chen is 47\n",
            "Drew is 68\n",
            "Ethan is 47\n"
          ]
        }
      ]
    },
    {
      "cell_type": "code",
      "source": [
        "print(\"05_triangle_perimeter\")\n",
        "\n",
        "def main():\n",
        "  side1 : float = float(input(\"What is the Length of side1 ? \"))\n",
        "  side2 : float = float(input(\"What is the Length of side2 ? \"))\n",
        "  side3 : float = float(input(\"What is the Length of side3 ? \"))\n",
        "  perimeter : float = side1 + side2 + side3\n",
        "  print(f\"The perimeter of the triangle is {perimeter}\")\n",
        "\n",
        "if __name__ == \"__main__\":\n",
        "  main()"
      ],
      "metadata": {
        "colab": {
          "base_uri": "https://localhost:8080/"
        },
        "id": "1KsSE7l9WSMO",
        "outputId": "4cd7cb55-5257-437b-b4c8-8b7481225ca0"
      },
      "execution_count": 26,
      "outputs": [
        {
          "output_type": "stream",
          "name": "stdout",
          "text": [
            "05_triangle_perimeter\n",
            "What is the Length of side1 ? 7\n",
            "What is the Length of side2 ? 8\n",
            "What is the Length of side3 ? 9\n",
            "The perimeter of the triangle is 24.0\n"
          ]
        }
      ]
    },
    {
      "cell_type": "code",
      "source": [
        "print(\"06_square_number\")\n",
        "\n",
        "def main():\n",
        "  print(\"This program print the square of the entered number\")\n",
        "  num = float(input(\"Enter a number: \"))\n",
        "  square = num ** 2\n",
        "  print(f\"The square of {num} is {square}\")\n",
        "\n",
        "if __name__ == \"__main__\":\n",
        "  main()"
      ],
      "metadata": {
        "colab": {
          "base_uri": "https://localhost:8080/"
        },
        "id": "iuY0XYcwYNdR",
        "outputId": "42f1e2d6-4622-45c5-95e8-245f6be4ae99"
      },
      "execution_count": 27,
      "outputs": [
        {
          "output_type": "stream",
          "name": "stdout",
          "text": [
            "06_square_number\n",
            "This program print the square of the entered number\n",
            "Enter a number: 8\n",
            "The square of 8.0 is 64.0\n"
          ]
        }
      ]
    }
  ]
}
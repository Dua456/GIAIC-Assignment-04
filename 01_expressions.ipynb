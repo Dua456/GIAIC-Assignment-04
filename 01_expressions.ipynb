{
  "nbformat": 4,
  "nbformat_minor": 0,
  "metadata": {
    "colab": {
      "provenance": [],
      "authorship_tag": "ABX9TyPa2tRFIevB1eNHiaAc1QcF",
      "include_colab_link": true
    },
    "kernelspec": {
      "name": "python3",
      "display_name": "Python 3"
    },
    "language_info": {
      "name": "python"
    }
  },
  "cells": [
    {
      "cell_type": "markdown",
      "metadata": {
        "id": "view-in-github",
        "colab_type": "text"
      },
      "source": [
        "<a href=\"https://colab.research.google.com/github/Dua456/GIAIC-Assignment-04/blob/main/01_expressions.ipynb\" target=\"_parent\"><img src=\"https://colab.research.google.com/assets/colab-badge.svg\" alt=\"Open In Colab\"/></a>"
      ]
    },
    {
      "cell_type": "code",
      "execution_count": null,
      "metadata": {
        "id": "pwz4kpoLs6yU"
      },
      "outputs": [],
      "source": []
    },
    {
      "cell_type": "markdown",
      "source": [
        "## **01_dicesimulator**"
      ],
      "metadata": {
        "id": "S41mCuLAtB_U"
      }
    },
    {
      "cell_type": "code",
      "source": [
        "import random\n",
        "def roll_dice():\n",
        "  die1: int = random.randint(1, 6)\n",
        "  die2: int = random.randint(1, 6)\n",
        "  total: int = die1 + die2\n",
        "  print(\"Total of two dice:\", total)\n",
        "\n",
        "\n",
        "def main():\n",
        "    die1: int = 10\n",
        "    print(\"die1 in main() starts as: \" + str(die1))\n",
        "    roll_dice()\n",
        "    roll_dice()\n",
        "    roll_dice()\n",
        "    print(\"die1 in main() is: \" + str(die1))\n",
        "\n",
        "if __name__ == '__main__':\n",
        "    main()"
      ],
      "metadata": {
        "colab": {
          "base_uri": "https://localhost:8080/"
        },
        "id": "HsX9XbkXtIeo",
        "outputId": "132b4651-3dc9-4414-f42b-0e2fb5520537"
      },
      "execution_count": 1,
      "outputs": [
        {
          "output_type": "stream",
          "name": "stdout",
          "text": [
            "die1 in main() starts as: 10\n",
            "Total of two dice: 6\n",
            "Total of two dice: 5\n",
            "Total of two dice: 7\n",
            "die1 in main() is: 10\n"
          ]
        }
      ]
    },
    {
      "cell_type": "markdown",
      "source": [
        "## **02_e=mc2**"
      ],
      "metadata": {
        "id": "Ig5LmmoFtZyj"
      }
    },
    {
      "cell_type": "code",
      "source": [
        "def energy():\n",
        "  C: int = 299792458\n",
        "  M:float=float(input(\"Enter mass in kilograms:\"))\n",
        "  E:float = M * (C ** 2)\n",
        "  print(\"e = m * C^2...\")\n",
        "  print(\"m = \" + str(M) + \" kg\")\n",
        "  print(\"C = \" + str(C) + \" m/s\")\n",
        "  print(str(E) + \" joules of energy!\")\n",
        "\n",
        "if __name__ == '__main__':\n",
        "    energy()"
      ],
      "metadata": {
        "colab": {
          "base_uri": "https://localhost:8080/"
        },
        "id": "kgmlr8X4tkvK",
        "outputId": "1547d8e6-2dc7-483a-9ec9-f51c2c4ac476"
      },
      "execution_count": 2,
      "outputs": [
        {
          "output_type": "stream",
          "name": "stdout",
          "text": [
            "Enter mass in kilograms:50\n",
            "e = m * C^2...\n",
            "m = 50.0 kg\n",
            "C = 299792458 m/s\n",
            "4.493775893684088e+18 joules of energy!\n"
          ]
        }
      ]
    },
    {
      "cell_type": "markdown",
      "source": [
        "# **03_feet_to_inches**"
      ],
      "metadata": {
        "id": "g6762XG5tsJ8"
      }
    },
    {
      "cell_type": "code",
      "source": [
        "def feet_to_inches():\n",
        "  inches_in_foot:int=12\n",
        "  feet:float=float(input(\"Enter number of feet:\"))\n",
        "  inches:float=feet*inches_in_foot\n",
        "  print(\"That is\", inches, \"inches!\")\n",
        "\n",
        "if __name__ == '__main__':\n",
        "    feet_to_inches()"
      ],
      "metadata": {
        "colab": {
          "base_uri": "https://localhost:8080/"
        },
        "id": "5JHzu5JStyiU",
        "outputId": "83fe96f6-eae5-4450-9286-18f8c947a143"
      },
      "execution_count": 3,
      "outputs": [
        {
          "output_type": "stream",
          "name": "stdout",
          "text": [
            "Enter number of feet:10\n",
            "That is 120.0 inches!\n"
          ]
        }
      ]
    },
    {
      "cell_type": "markdown",
      "source": [
        "# **04_pythagorean_theorem**"
      ],
      "metadata": {
        "id": "66jUbkeht53m"
      }
    },
    {
      "cell_type": "code",
      "source": [
        "import math\n",
        "\n",
        "def pythagorean_theorem():\n",
        "   ab: float = float(input(\"Enter the length of AB: \"))\n",
        "   ac: float = float(input(\"Enter the length of AC: \"))\n",
        "   bc:float=math.sqrt(ab**2 + ac**2)\n",
        "   print(\"the length of the hypotenuse/BC is = \" + str(bc))\n",
        "\n",
        "if __name__ == '__main__':\n",
        "    pythagorean_theorem()\n",
        ""
      ],
      "metadata": {
        "colab": {
          "base_uri": "https://localhost:8080/"
        },
        "id": "DGu8ORj6uAyK",
        "outputId": "7149c634-f328-4b2b-95c7-20fd0f9a96e4"
      },
      "execution_count": 4,
      "outputs": [
        {
          "output_type": "stream",
          "name": "stdout",
          "text": [
            "Enter the length of AB: 8\n",
            "Enter the length of AC: 10\n",
            "the length of the hypotenuse/BC is = 12.806248474865697\n"
          ]
        }
      ]
    },
    {
      "cell_type": "markdown",
      "source": [
        "# **05_remainder_division**"
      ],
      "metadata": {
        "id": "Ufjv90NpuIQr"
      }
    },
    {
      "cell_type": "code",
      "source": [
        "from __future__ import division\n",
        "def division():\n",
        "  dividend:int=int(input(\"Enter the dividend:\"))\n",
        "  divisor:int=int(input(\"Enter the divisor:\"))\n",
        "  quotient:int=dividend//divisor\n",
        "  remainder:int=dividend%divisor\n",
        "  print(\"The result of this division is \" + str(quotient) + \" with a remainder of \" + str(remainder))\n",
        "\n",
        "if __name__ == '__main__':\n",
        "    division()\n",
        ""
      ],
      "metadata": {
        "colab": {
          "base_uri": "https://localhost:8080/"
        },
        "id": "QJVA9hLtuMTY",
        "outputId": "1ec72b37-e9a7-49ed-f07d-c7f2cf7a1f29"
      },
      "execution_count": 5,
      "outputs": [
        {
          "output_type": "stream",
          "name": "stdout",
          "text": [
            "Enter the dividend:16\n",
            "Enter the divisor:2\n",
            "The result of this division is 8 with a remainder of 0\n"
          ]
        }
      ]
    },
    {
      "cell_type": "markdown",
      "source": [
        "# **06_rolldice**"
      ],
      "metadata": {
        "id": "ft93hm2IuXSd"
      }
    },
    {
      "cell_type": "code",
      "source": [
        "import random\n",
        "def roll():\n",
        "  NUM_SIDES: int = 6\n",
        "  die1:int=random.randint(1,NUM_SIDES)\n",
        "  die2:int=random.randint(1,NUM_SIDES)\n",
        "  total:int=die1+die2\n",
        "\n",
        "  print(\"Dice have\", NUM_SIDES, \"sides each.\")\n",
        "  print(\"First die:\", die1)\n",
        "  print(\"Second die:\", die2)\n",
        "  print(\"Total of two dice:\", total)\n",
        "\n",
        "if __name__ == '__main__':\n",
        "    roll()"
      ],
      "metadata": {
        "colab": {
          "base_uri": "https://localhost:8080/"
        },
        "id": "Se9eIv4buZbT",
        "outputId": "1d951e69-4996-484e-9269-e60adbee64b9"
      },
      "execution_count": 6,
      "outputs": [
        {
          "output_type": "stream",
          "name": "stdout",
          "text": [
            "Dice have 6 sides each.\n",
            "First die: 6\n",
            "Second die: 2\n",
            "Total of two dice: 8\n"
          ]
        }
      ]
    },
    {
      "cell_type": "markdown",
      "source": [
        "## **07_seconds_in_year**"
      ],
      "metadata": {
        "id": "SyGP0MsMufJE"
      }
    },
    {
      "cell_type": "code",
      "source": [
        "def seconds_in_year():\n",
        "  days_per_year:int=365\n",
        "  hours_per_day:int=24\n",
        "  minutes_per_hour:int=60\n",
        "  seconds_per_minute:int=60\n",
        "  print(\"There are \" + str(days_per_year * hours_per_day * minutes_per_hour * seconds_per_minute) + \" seconds in a year!\")\n",
        "\n",
        "\n",
        "if __name__ == '__main__':\n",
        "    seconds_in_year()"
      ],
      "metadata": {
        "colab": {
          "base_uri": "https://localhost:8080/"
        },
        "id": "3y9QhkBiui-i",
        "outputId": "6610d200-0867-447b-fb9e-94e6245b10eb"
      },
      "execution_count": 7,
      "outputs": [
        {
          "output_type": "stream",
          "name": "stdout",
          "text": [
            "There are 31536000 seconds in a year!\n"
          ]
        }
      ]
    },
    {
      "cell_type": "markdown",
      "source": [
        "# **07_tiny_mad_lib**"
      ],
      "metadata": {
        "id": "IsN9HQVAum4Y"
      }
    },
    {
      "cell_type": "code",
      "source": [
        "def mad_lib():\n",
        "  SENTENCE_START: str = \"Panaversity is fun. I learned to program and used Python to make my \"\n",
        "  adjective:str=input(\"Enter an adjective :\")\n",
        "  noun:str=input(\"Enter a noun :\")\n",
        "  verb:str=input(\"Enter a verb : \")\n",
        "  print(f\"{SENTENCE_START} {adjective} {noun} {verb}\")\n",
        "\n",
        "if __name__ == '__main__':\n",
        "    mad_lib()"
      ],
      "metadata": {
        "colab": {
          "base_uri": "https://localhost:8080/"
        },
        "id": "ANSQzIvSuqgZ",
        "outputId": "ab22301b-5316-4245-9e4c-a7c31a979c77"
      },
      "execution_count": 9,
      "outputs": [
        {
          "output_type": "stream",
          "name": "stdout",
          "text": [
            "Enter an adjective :small\n",
            "Enter a noun :cat\n",
            "Enter a verb : run\n",
            "Panaversity is fun. I learned to program and used Python to make my  small cat run\n"
          ]
        }
      ]
    }
  ]
}
{
  "nbformat": 4,
  "nbformat_minor": 0,
  "metadata": {
    "colab": {
      "provenance": [],
      "authorship_tag": "ABX9TyPqIoT9rwviyOQwLTCcigM2",
      "include_colab_link": true
    },
    "kernelspec": {
      "name": "python3",
      "display_name": "Python 3"
    },
    "language_info": {
      "name": "python"
    }
  },
  "cells": [
    {
      "cell_type": "markdown",
      "metadata": {
        "id": "view-in-github",
        "colab_type": "text"
      },
      "source": [
        "<a href=\"https://colab.research.google.com/github/Dua456/GIAIC-Assignment-04/blob/main/02_lists_.ipynb\" target=\"_parent\"><img src=\"https://colab.research.google.com/assets/colab-badge.svg\" alt=\"Open In Colab\"/></a>"
      ]
    },
    {
      "cell_type": "markdown",
      "source": [
        "# **01_add_many_number**"
      ],
      "metadata": {
        "id": "kbyXr0uDvqGR"
      }
    },
    {
      "cell_type": "code",
      "source": [
        "def add_many_numbers(numbers)->int:\n",
        "  total:int=0\n",
        "  for number in numbers:\n",
        "    total+=number\n",
        "  return total\n",
        "\n",
        "def sum():\n",
        "  numbers:list[int]=[2,4,6,8,10,12,14,16]\n",
        "  sum:int=add_many_numbers(numbers)\n",
        "  print (sum)\n",
        "\n",
        "if __name__ == \"__main__\":\n",
        "  sum()"
      ],
      "metadata": {
        "colab": {
          "base_uri": "https://localhost:8080/"
        },
        "id": "VHKRf9OMvvc9",
        "outputId": "a4e69968-7b11-40d5-b58b-4496a6fccedb"
      },
      "execution_count": 1,
      "outputs": [
        {
          "output_type": "stream",
          "name": "stdout",
          "text": [
            "72\n"
          ]
        }
      ]
    },
    {
      "cell_type": "markdown",
      "source": [
        "# **02_double_list**"
      ],
      "metadata": {
        "id": "Ch23YSFTv8eJ"
      }
    },
    {
      "cell_type": "code",
      "source": [
        "def double():\n",
        "  numbers:list[int]=[1,2,3,4,5,6,7,8]\n",
        "  for i in range(len(numbers)):\n",
        "    elem=numbers[i]\n",
        "    numbers[i]=elem*2\n",
        "  print (numbers)\n",
        "\n",
        "if __name__ == \"__main__\":\n",
        "  double()"
      ],
      "metadata": {
        "colab": {
          "base_uri": "https://localhost:8080/"
        },
        "id": "OuAnYSdewAj3",
        "outputId": "8259a9f8-1c02-409c-dd73-0cd3550e698a"
      },
      "execution_count": 3,
      "outputs": [
        {
          "output_type": "stream",
          "name": "stdout",
          "text": [
            "[2, 4, 6, 8, 10, 12, 14, 16]\n"
          ]
        }
      ]
    },
    {
      "cell_type": "markdown",
      "source": [
        "# **04_flowing_with_data_structures**"
      ],
      "metadata": {
        "id": "JQKSeV6KwHPd"
      }
    },
    {
      "cell_type": "code",
      "source": [
        "def add_three_copies(my_list, data):\n",
        "    for i in range(3):\n",
        "        my_list.append(data)\n",
        "\n",
        "\n",
        "def message():\n",
        "    message = input(\"Enter a message to copy: \")\n",
        "    my_list = []\n",
        "    print(\"List before:\", my_list)\n",
        "    add_three_copies(my_list, message)\n",
        "    print(\"List after:\", my_list)\n",
        "\n",
        "if __name__ == \"__main__\":\n",
        "    message()\n",
        ""
      ],
      "metadata": {
        "colab": {
          "base_uri": "https://localhost:8080/"
        },
        "id": "aFRgL5dFwLA0",
        "outputId": "0c8b3471-5401-4e9a-a319-2c606e230168"
      },
      "execution_count": 4,
      "outputs": [
        {
          "output_type": "stream",
          "name": "stdout",
          "text": [
            "Enter a message to copy: hello python\n",
            "List before: []\n",
            "List after: ['hello python', 'hello python', 'hello python']\n"
          ]
        }
      ]
    },
    {
      "cell_type": "markdown",
      "source": [
        "# **05_get_first_element**"
      ],
      "metadata": {
        "id": "NA1MegPvwTqK"
      }
    },
    {
      "cell_type": "code",
      "source": [
        "def get_first_element(list):\n",
        "\n",
        "    print(\"this is a program to print the first element of the provided list\")\n",
        "    print(list[0])\n",
        "\n",
        "def get_list():\n",
        "    list=[]\n",
        "    element:str=input(\"Please enter an element of the list or press enter to stop. \")\n",
        "    while element != \"\":\n",
        "        list.append(element)\n",
        "        element = input(\"Please enter an element of the list or press enter to stop. \")\n",
        "    return list\n",
        "\n",
        "def first_element():\n",
        "    list = get_list()\n",
        "    get_first_element(list)\n",
        "\n",
        "\n",
        "\n",
        "\n",
        "if __name__ == '__main__':\n",
        "    first_element()"
      ],
      "metadata": {
        "colab": {
          "base_uri": "https://localhost:8080/"
        },
        "id": "iMnvwVX0wYYs",
        "outputId": "c58c01f8-c499-43ce-9130-94149e479068"
      },
      "execution_count": 5,
      "outputs": [
        {
          "output_type": "stream",
          "name": "stdout",
          "text": [
            "Please enter an element of the list or press enter to stop. Hi\n",
            "Please enter an element of the list or press enter to stop. I am Dua Shakir\n",
            "Please enter an element of the list or press enter to stop. \n",
            "this is a program to print the first element of the provided list\n",
            "Hi\n"
          ]
        }
      ]
    },
    {
      "cell_type": "markdown",
      "source": [
        "# **06_get_last_element**"
      ],
      "metadata": {
        "id": "Sz2k1I2Kw24y"
      }
    },
    {
      "cell_type": "code",
      "source": [
        "def get_last_element(list):\n",
        "  print(\"this is a program to get the last item of the provided list\")\n",
        "  print(list[-1])\n",
        "\n",
        "def get_list():\n",
        "  list=[]\n",
        "  element:str=input(\"Please enter an element of the list or press enter to stop. \")\n",
        "  while element != \"\":\n",
        "    list.append(element)\n",
        "    element = input(\"Please enter an element of the list or press enter to stop. \")\n",
        "  return list\n",
        "\n",
        "def last_element():\n",
        "  list=get_list()\n",
        "  get_last_element(list)\n",
        "\n",
        "if __name__ == '__main__':\n",
        "  last_element()"
      ],
      "metadata": {
        "colab": {
          "base_uri": "https://localhost:8080/"
        },
        "id": "65EWowzOw8BX",
        "outputId": "ef3190b9-b6ba-48d0-b3ce-ae1abb985d20"
      },
      "execution_count": 6,
      "outputs": [
        {
          "output_type": "stream",
          "name": "stdout",
          "text": [
            "Please enter an element of the list or press enter to stop. Hi\n",
            "Please enter an element of the list or press enter to stop. My name is Dua Shakir\n",
            "Please enter an element of the list or press enter to stop. I am learning in python\n",
            "Please enter an element of the list or press enter to stop. \n",
            "this is a program to get the last item of the provided list\n",
            "I am learning in python\n"
          ]
        }
      ]
    },
    {
      "cell_type": "markdown",
      "source": [
        "# **07_get_list**"
      ],
      "metadata": {
        "id": "YHhOr6iwxRyN"
      }
    },
    {
      "cell_type": "code",
      "source": [
        "from os import removexattr\n",
        "def get_list():\n",
        "  list:str=[]\n",
        "  val:str=input(\"Please enter a value:\")\n",
        "  while val:\n",
        "    list.append(val)\n",
        "    val = input(\"Please enter a value: \")\n",
        "\n",
        "  print(\"Here's the list:\", list)\n",
        "\n",
        "if __name__ == '__main__':\n",
        "  get_list()\n",
        ""
      ],
      "metadata": {
        "colab": {
          "base_uri": "https://localhost:8080/"
        },
        "id": "koOku4X5xVWm",
        "outputId": "55d8caa5-3b05-4364-9fcd-643c5268d419"
      },
      "execution_count": 7,
      "outputs": [
        {
          "output_type": "stream",
          "name": "stdout",
          "text": [
            "Please enter a value:Hi\n",
            "Please enter a value: My name is Dua Shakir\n",
            "Please enter a value: I am learning in python\n",
            "Please enter a value: hello python\n",
            "Please enter a value: \n",
            "Here's the list: ['Hi', 'My name is Dua Shakir', 'I am learning in python', 'hello python']\n"
          ]
        }
      ]
    },
    {
      "cell_type": "markdown",
      "source": [
        "# **08_shorten**"
      ],
      "metadata": {
        "id": "u6s6gj5wxspw"
      }
    },
    {
      "cell_type": "code",
      "source": [
        "max_legth:int=3\n",
        "def shorten(list):\n",
        "  while len(list) >= max_legth:\n",
        "    last_elem=list.pop()\n",
        "    print(last_elem)\n",
        "\n",
        "def get_list():\n",
        "  list=[]\n",
        "  element=input(\"Please enter an element to add to the list :\")\n",
        "  while element != \"\":\n",
        "    list.append(element)\n",
        "    element=input(\"Please enter an element to add to the list or press enter to stop :\")\n",
        "  return list\n",
        "\n",
        "def shorten_list():\n",
        "  list=get_list()\n",
        "  shorten(list)\n",
        "\n",
        "if __name__ == '__main__':\n",
        "  shorten_list()"
      ],
      "metadata": {
        "colab": {
          "base_uri": "https://localhost:8080/"
        },
        "id": "qKO-23fixuP0",
        "outputId": "6ea9068e-f731-45bc-b951-95b245618252"
      },
      "execution_count": 8,
      "outputs": [
        {
          "output_type": "stream",
          "name": "stdout",
          "text": [
            "Please enter an element to add to the list :h\n",
            "Please enter an element to add to the list or press enter to stop :i\n",
            "Please enter an element to add to the list or press enter to stop :D\n",
            "Please enter an element to add to the list or press enter to stop :u\n",
            "Please enter an element to add to the list or press enter to stop :a\n",
            "Please enter an element to add to the list or press enter to stop :S\n",
            "Please enter an element to add to the list or press enter to stop :h\n",
            "Please enter an element to add to the list or press enter to stop :a\n",
            "Please enter an element to add to the list or press enter to stop :k\n",
            "Please enter an element to add to the list or press enter to stop :i\n",
            "Please enter an element to add to the list or press enter to stop :r\n",
            "Please enter an element to add to the list or press enter to stop :\n",
            "r\n",
            "i\n",
            "k\n",
            "a\n",
            "h\n",
            "S\n",
            "a\n",
            "u\n",
            "D\n"
          ]
        }
      ]
    }
  ]
}
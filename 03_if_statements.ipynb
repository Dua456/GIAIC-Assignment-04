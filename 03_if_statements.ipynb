{
  "nbformat": 4,
  "nbformat_minor": 0,
  "metadata": {
    "colab": {
      "provenance": [],
      "authorship_tag": "ABX9TyO+hkknHrvx1rwUkYblF7hQ",
      "include_colab_link": true
    },
    "kernelspec": {
      "name": "python3",
      "display_name": "Python 3"
    },
    "language_info": {
      "name": "python"
    }
  },
  "cells": [
    {
      "cell_type": "markdown",
      "metadata": {
        "id": "view-in-github",
        "colab_type": "text"
      },
      "source": [
        "<a href=\"https://colab.research.google.com/github/Dua456/GIAIC-Assignment-04/blob/main/03_if_statements.ipynb\" target=\"_parent\"><img src=\"https://colab.research.google.com/assets/colab-badge.svg\" alt=\"Open In Colab\"/></a>"
      ]
    },
    {
      "cell_type": "markdown",
      "source": [
        "# **01_print_events**"
      ],
      "metadata": {
        "id": "iKZgklmvym5j"
      }
    },
    {
      "cell_type": "code",
      "source": [
        "def even_numbers():\n",
        "  print(\"this is a program to print even numbers in range of 20\")\n",
        "  for i in range(15):\n",
        "      if i%2==0:\n",
        "        print(i)\n",
        "\n",
        "if __name__ == \"__main__\":\n",
        "    even_numbers()"
      ],
      "metadata": {
        "colab": {
          "base_uri": "https://localhost:8080/"
        },
        "id": "9MY8nxtOyrjx",
        "outputId": "161f997e-4648-480e-b1bb-72c71d2c1b61"
      },
      "execution_count": 2,
      "outputs": [
        {
          "output_type": "stream",
          "name": "stdout",
          "text": [
            "this is a program to print even numbers in range of 20\n",
            "0\n",
            "2\n",
            "4\n",
            "6\n",
            "8\n",
            "10\n",
            "12\n",
            "14\n"
          ]
        }
      ]
    },
    {
      "cell_type": "markdown",
      "source": [
        "# **2_international_voting_age**"
      ],
      "metadata": {
        "id": "q6OwrGU-zKT1"
      }
    },
    {
      "cell_type": "code",
      "source": [
        "Peturksbouipo_age:int=16\n",
        "Stanlau_age:int=25\n",
        "Mayengua_age=48\n",
        "def international_voting_age():\n",
        " print(\"This is a program to check user's age for voting\")\n",
        " user_age:int=int(input(\"How Old Are You?\"))\n",
        " if user_age >=Peturksbouipo_age:\n",
        "   print(f\"You can vote in Peturksbouipo where the voting age is {Peturksbouipo_age}\")\n",
        " else:\n",
        "   print(\"You can't vote in preturksbouipo\")\n",
        "\n",
        " if user_age >= Stanlau_age:\n",
        "  print(f\"You can vote in Stanlau where the voting age is {Stanlau_age}\")\n",
        " else:\n",
        "  print(\"You can't vote in Stanlau\")\n",
        "\n",
        " if user_age >=Mayengua_age:\n",
        "  print(f\"You can vote in Mayengua where the voting age is {Mayengua_age}\")\n",
        " else:\n",
        "  print(\"You can't vote in Mayengua\")\n",
        "\n",
        "\n",
        "if __name__ == \"__main__\":\n",
        "    international_voting_age()"
      ],
      "metadata": {
        "colab": {
          "base_uri": "https://localhost:8080/"
        },
        "id": "DlmBJ4SAzOO1",
        "outputId": "62a52ac0-0330-4400-d63b-423af6435e41"
      },
      "execution_count": 10,
      "outputs": [
        {
          "output_type": "stream",
          "name": "stdout",
          "text": [
            "This is a program to check user's age for voting\n",
            "How Old Are You?25\n",
            "You can vote in Peturksbouipo where the voting age is 16\n",
            "You can vote in Stanlau where the voting age is 25\n",
            "You can't vote in Mayengua\n"
          ]
        }
      ]
    },
    {
      "cell_type": "markdown",
      "source": [
        "# **03_leap_year**"
      ],
      "metadata": {
        "id": "TuYxQB-fziAz"
      }
    },
    {
      "cell_type": "code",
      "source": [
        "def leap_year():\n",
        "  user_input:int=int(input(\"Enter a year to check if it is a leap year:\"))\n",
        "  if user_input%4==0:\n",
        "    print(f\"{user_input} is a leap year\")\n",
        "  else:\n",
        "    print(f\"{user_input} is not a leap year\")\n",
        "\n",
        "if __name__ == \"__main__\":\n",
        "    leap_year()"
      ],
      "metadata": {
        "colab": {
          "base_uri": "https://localhost:8080/"
        },
        "id": "J7HwtdXrzlbd",
        "outputId": "eefade62-8a0f-4b80-ce9b-3df08546e11f"
      },
      "execution_count": 11,
      "outputs": [
        {
          "output_type": "stream",
          "name": "stdout",
          "text": [
            "Enter a year to check if it is a leap year:2023\n",
            "2023 is not a leap year\n"
          ]
        }
      ]
    },
    {
      "cell_type": "markdown",
      "source": [
        "# **04_tall_enough_to_ride**"
      ],
      "metadata": {
        "id": "DRCTwdt9zsdY"
      }
    },
    {
      "cell_type": "code",
      "source": [
        "def height_check():\n",
        "  print(\"this is a program which checks if you're tall enough to ride\")\n",
        "  minimum_height:int=50\n",
        "  user_height:int=int(input(\"Enter your height in cm:\"))\n",
        "  if user_height >= minimum_height:\n",
        "    print(\"You're tall enough to ride\")\n",
        "  else:\n",
        "    print(\"You're not tall enough to ride maybe next year\")\n",
        "\n",
        "if __name__ == \"__main__\":\n",
        "    height_check()"
      ],
      "metadata": {
        "colab": {
          "base_uri": "https://localhost:8080/"
        },
        "id": "0ldGBmf0zxIs",
        "outputId": "070be451-6f49-49cd-f415-c2fc6337fb60"
      },
      "execution_count": 12,
      "outputs": [
        {
          "output_type": "stream",
          "name": "stdout",
          "text": [
            "this is a program which checks if you're tall enough to ride\n",
            "Enter your height in cm:50\n",
            "You're tall enough to ride\n"
          ]
        }
      ]
    },
    {
      "cell_type": "markdown",
      "source": [
        "# **05_random_numbers**"
      ],
      "metadata": {
        "id": "Q3z8GW1Uz4pF"
      }
    },
    {
      "cell_type": "code",
      "source": [
        "import random\n",
        "n_numbers:int=10\n",
        "min_value:int=1\n",
        "max_value:int=100\n",
        "def random_numbers():\n",
        "  random_numbers_list=[]\n",
        "  for i in range(n_numbers):\n",
        "    random_numbers_list.append(random.randint(min_value,max_value))\n",
        "  print(random_numbers_list)\n",
        "\n",
        "if __name__ == \"__main__\":\n",
        "    random_numbers()"
      ],
      "metadata": {
        "colab": {
          "base_uri": "https://localhost:8080/"
        },
        "id": "zXl-O9tNz6DH",
        "outputId": "29f1d6df-0929-4eae-b557-251a87a28726"
      },
      "execution_count": 15,
      "outputs": [
        {
          "output_type": "stream",
          "name": "stdout",
          "text": [
            "[11, 19, 96, 16, 56, 89, 56, 58, 29, 39]\n"
          ]
        }
      ]
    }
  ]
}
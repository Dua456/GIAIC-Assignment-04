{
  "nbformat": 4,
  "nbformat_minor": 0,
  "metadata": {
    "colab": {
      "provenance": [],
      "authorship_tag": "ABX9TyPVQpz2MCxtZ8gqRwnOEnni",
      "include_colab_link": true
    },
    "kernelspec": {
      "name": "python3",
      "display_name": "Python 3"
    },
    "language_info": {
      "name": "python"
    }
  },
  "cells": [
    {
      "cell_type": "markdown",
      "metadata": {
        "id": "view-in-github",
        "colab_type": "text"
      },
      "source": [
        "<a href=\"https://colab.research.google.com/github/Dua456/GIAIC-Assignment-04/blob/main/04_dictionaries.ipynb\" target=\"_parent\"><img src=\"https://colab.research.google.com/assets/colab-badge.svg\" alt=\"Open In Colab\"/></a>"
      ]
    },
    {
      "cell_type": "markdown",
      "source": [
        "# **00_count_nums**"
      ],
      "metadata": {
        "id": "LVcav-Ak0YVR"
      }
    },
    {
      "cell_type": "code",
      "source": [
        "def get_user_numbers():\n",
        "  user_numbers=[]\n",
        "  while True:\n",
        "    user_input=input(\"Enter a number: \")\n",
        "    if user_input == \"\":\n",
        "      break\n",
        "    num=int(user_input)\n",
        "    user_numbers.append(num)\n",
        "  return user_numbers\n",
        "\n",
        "def count_numbers(num_list):\n",
        "  num_dict={}\n",
        "  for num in num_list:\n",
        "    if num not in num_dict:\n",
        "      num_dict[num]=1\n",
        "    else:\n",
        "      num_dict[num] +=1\n",
        "  return num_dict\n",
        "\n",
        "def print_counts(num_dict):\n",
        "  for num in num_dict:\n",
        "    print(f\"{num} appears {num_dict[num]} times\" )\n",
        "\n",
        "def count():\n",
        "  user_numbers=get_user_numbers()\n",
        "  num_dict=count_numbers(user_numbers)\n",
        "  print_counts(num_dict)\n",
        "\n",
        "if __name__ == \"__main__\":\n",
        "  count()\n"
      ],
      "metadata": {
        "colab": {
          "base_uri": "https://localhost:8080/"
        },
        "id": "TQsWv45M0hrK",
        "outputId": "c6749ded-0a03-4eaa-f8bb-46318d5e6be1"
      },
      "execution_count": 16,
      "outputs": [
        {
          "output_type": "stream",
          "name": "stdout",
          "text": [
            "Enter a number: 4\n",
            "Enter a number: 3\n",
            "Enter a number: 2\n",
            "Enter a number: 5\n",
            "Enter a number: 6\n",
            "Enter a number: 4\n",
            "Enter a number: 3\n",
            "Enter a number: 8\n",
            "Enter a number: \n",
            "4 appears 2 times\n",
            "3 appears 2 times\n",
            "2 appears 1 times\n",
            "5 appears 1 times\n",
            "6 appears 1 times\n",
            "8 appears 1 times\n"
          ]
        }
      ]
    },
    {
      "cell_type": "markdown",
      "source": [
        "# **01_phonebook**"
      ],
      "metadata": {
        "id": "whwiuZW-0tZF"
      }
    },
    {
      "cell_type": "code",
      "source": [
        "def read_phone_numbers():\n",
        "  phonebook={}\n",
        "  while True:\n",
        "    name=input(\"Name:\")\n",
        "    if name == \"\":\n",
        "      break\n",
        "    number=input(\"Number:\")\n",
        "    phonebook[name]=number\n",
        "  return phonebook\n",
        "\n",
        "def print_phonebook(phonebook):\n",
        "  for name in phonebook:\n",
        "    print(f\"{name} -> {phonebook[name]}\")\n",
        "\n",
        "def lookup_numbers(phonebook):\n",
        "  while True:\n",
        "    name=input(\"Enter a name to lookup :\")\n",
        "    if name == \"\":\n",
        "      break\n",
        "    if name not in phonebook:\n",
        "      print(f\"{name} is not in the phonebook\")\n",
        "    else:\n",
        "      print(phonebook[name])\n",
        "\n",
        "def phonebook():\n",
        "  phonebook=read_phone_numbers()\n",
        "  print_phonebook(phonebook)\n",
        "  lookup_numbers(phonebook)\n",
        "\n",
        "if __name__ == \"__main__\":\n",
        "  phonebook()"
      ],
      "metadata": {
        "colab": {
          "base_uri": "https://localhost:8080/"
        },
        "id": "GVla-HQa0ynM",
        "outputId": "d647e01c-1b68-4cea-c64a-7bf7added9d8"
      },
      "execution_count": null,
      "outputs": [
        {
          "name": "stdout",
          "output_type": "stream",
          "text": [
            "Name:\n"
          ]
        }
      ]
    },
    {
      "cell_type": "markdown",
      "source": [
        "# **02_pop_up_shop**"
      ],
      "metadata": {
        "id": "EPeo9UbL0_Lw"
      }
    },
    {
      "cell_type": "code",
      "source": [
        "def pop_up_shop():\n",
        "  fruits = {'apple': 1.5, 'durian': 50, 'jackfruit': 80, 'kiwi': 1, 'rambutan': 1.5, 'mango': 5}\n",
        "  total_cost=0\n",
        "  for fruit_name in fruits:\n",
        "    price=fruits[fruit_name]\n",
        "    amount_bought=int(input(f\"how many {fruit_name} do you want to buy?\"))\n",
        "    total_cost += (price* amount_bought)\n",
        "\n",
        "  print(f\"your total is = ${total_cost}\")\n",
        "\n",
        "if __name__ == \"__main__\":\n",
        "  pop_up_shop()\n",
        ""
      ],
      "metadata": {
        "colab": {
          "base_uri": "https://localhost:8080/"
        },
        "id": "dkHRs4sn1CAT",
        "outputId": "726b684d-d264-4d27-efcf-510f899113e7"
      },
      "execution_count": 19,
      "outputs": [
        {
          "output_type": "stream",
          "name": "stdout",
          "text": [
            "how many apple do you want to buy?4\n",
            "how many durian do you want to buy?6\n",
            "how many jackfruit do you want to buy?8\n",
            "how many kiwi do you want to buy?9\n",
            "how many rambutan do you want to buy?3\n",
            "how many mango do you want to buy?7\n",
            "your total is = $994.5\n"
          ]
        }
      ]
    },
    {
      "cell_type": "markdown",
      "source": [
        "# **03_powerful_passwords**"
      ],
      "metadata": {
        "id": "NG2WWTuR1vZC"
      }
    },
    {
      "cell_type": "code",
      "source": [
        "import hashlib\n",
        "from hashlib import sha256\n",
        "def hash_password(password):\n",
        "  return hashlib.sha256(password.encode()).hexdigest()\n",
        "\n",
        "stored_logins={\n",
        "    \"user1@gmail.com\":hash_password(\"password1\"),\n",
        "    \"user2@gmail.com\":hash_password(\"password2\")\n",
        "}\n",
        "def login(email,password):\n",
        "  if email in stored_logins:\n",
        "   return stored_logins[email] == hash_password(password)\n",
        "  return False\n",
        "\n",
        "if __name__ == \"__main__\":\n",
        "  email=input(\"Enter your email: \")\n",
        "  password=input(\"Enter your password: \")\n",
        "  if login(email,password):\n",
        "    print(\"Login successful\")\n",
        "  else:\n",
        "    print(\"login failed\")"
      ],
      "metadata": {
        "colab": {
          "base_uri": "https://localhost:8080/"
        },
        "id": "5zie-Knv16tY",
        "outputId": "05a3df57-4217-4b29-ea20-769473f0c17b"
      },
      "execution_count": 21,
      "outputs": [
        {
          "output_type": "stream",
          "name": "stdout",
          "text": [
            "Enter your email: user2@gmail.com\n",
            "Enter your password: password2\n",
            "Login successful\n"
          ]
        }
      ]
    }
  ]
}
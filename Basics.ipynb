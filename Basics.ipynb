{
  "nbformat": 4,
  "nbformat_minor": 0,
  "metadata": {
    "colab": {
      "provenance": [],
      "authorship_tag": "ABX9TyPEmWPETb2d8Q7wqhJ9clCB",
      "include_colab_link": true
    },
    "kernelspec": {
      "name": "python3",
      "display_name": "Python 3"
    },
    "language_info": {
      "name": "python"
    }
  },
  "cells": [
    {
      "cell_type": "markdown",
      "metadata": {
        "id": "view-in-github",
        "colab_type": "text"
      },
      "source": [
        "<a href=\"https://colab.research.google.com/github/Dua456/GIAIC-Assignment-04/blob/main/Basics.ipynb\" target=\"_parent\"><img src=\"https://colab.research.google.com/assets/colab-badge.svg\" alt=\"Open In Colab\"/></a>"
      ]
    },
    {
      "cell_type": "markdown",
      "source": [
        "# **00_Joke_bot**"
      ],
      "metadata": {
        "id": "z5Y0OTJ17i7o"
      }
    },
    {
      "cell_type": "code",
      "source": [
        "\n",
        "prompt: str = \"Hey there! What would you like to hear? \"\n",
        "joke: str = \"Why do programmers prefer dark mode? Because the light attracts bugs!\"\n",
        "sorry: str = \"Oops! I can only share jokes. Try asking for one.\"\n",
        "\n",
        "def joke_bot():\n",
        "    user_input = input(prompt)\n",
        "    user_input = user_input.strip().lower()\n",
        "    if \"joke\" in user_input:\n",
        "        print(joke)\n",
        "    else:\n",
        "        print(sorry)\n",
        "\n",
        "if __name__ == \"__main__\":\n",
        "    joke_bot()\n"
      ],
      "metadata": {
        "colab": {
          "base_uri": "https://localhost:8080/"
        },
        "id": "pFWaAcAh7vNW",
        "outputId": "9ff80ebe-3dfa-4b5e-9050-748717b83a11"
      },
      "execution_count": 1,
      "outputs": [
        {
          "output_type": "stream",
          "name": "stdout",
          "text": [
            "Hey there! What would you like to hear? joke\n",
            "Why do programmers prefer dark mode? Because the light attracts bugs!\n"
          ]
        }
      ]
    },
    {
      "cell_type": "markdown",
      "source": [
        "# **01_Double_it**"
      ],
      "metadata": {
        "id": "E84sB-BH8YG4"
      }
    },
    {
      "cell_type": "code",
      "source": [
        "def double_it():\n",
        "  user_value=int(input(\"Enter a number to double it : \"))\n",
        "  current_value=user_value *2\n",
        "  while current_value < 50:\n",
        "    print(current_value)\n",
        "    current_value=current_value*2\n",
        "  print(current_value)\n",
        "\n",
        "if __name__==\"__main__\":\n",
        "  double_it()"
      ],
      "metadata": {
        "colab": {
          "base_uri": "https://localhost:8080/"
        },
        "id": "I65UbxZe8dm_",
        "outputId": "7e7b67e1-e44a-4ecf-97f3-3b97bbe83881"
      },
      "execution_count": 2,
      "outputs": [
        {
          "output_type": "stream",
          "name": "stdout",
          "text": [
            "Enter a number to double it : 5\n",
            "10\n",
            "20\n",
            "40\n",
            "80\n"
          ]
        }
      ]
    },
    {
      "cell_type": "markdown",
      "source": [
        "# **02_liftoff**"
      ],
      "metadata": {
        "id": "63Dh9AER8n7e"
      }
    },
    {
      "cell_type": "code",
      "source": [
        "import time\n",
        "print(\"spaceship that is about to launch\")\n",
        "def lift_off():\n",
        " for i in range(10):\n",
        "    print(10-i)\n",
        "    time.sleep(1)\n",
        " print(\"Lift off!\")\n",
        "\n",
        "\n",
        "\n",
        "if __name__ == \"__main__\":\n",
        "  lift_off()"
      ],
      "metadata": {
        "colab": {
          "base_uri": "https://localhost:8080/"
        },
        "id": "2XDsR42D8p50",
        "outputId": "ad46d881-6f53-4205-a1d8-7e6f0a25855c"
      },
      "execution_count": 3,
      "outputs": [
        {
          "output_type": "stream",
          "name": "stdout",
          "text": [
            "spaceship that is about to launch\n",
            "10\n",
            "9\n",
            "8\n",
            "7\n",
            "6\n",
            "5\n",
            "4\n",
            "3\n",
            "2\n",
            "1\n",
            "Lift off!\n"
          ]
        }
      ]
    },
    {
      "cell_type": "markdown",
      "source": [
        "# **03_Guess_my_number**"
      ],
      "metadata": {
        "id": "wXQPpnZa8vw0"
      }
    },
    {
      "cell_type": "code",
      "source": [
        "import random\n",
        "\n",
        "def guess():\n",
        "    secret_number = random.randint(0, 99)\n",
        "    print(\"I am thinking of a number between 0 to 99....\")\n",
        "    user_guess = int(input(\"Enter a guess...\"))\n",
        "\n",
        "    while user_guess != secret_number:\n",
        "        if user_guess > secret_number:\n",
        "            print(\"Sorry, guess again... too high\")\n",
        "        elif user_guess < secret_number:\n",
        "            print(\"Sorry, guess again... too low\")\n",
        "        user_guess = int(input(\"Enter a new guess: \"))\n",
        "\n",
        "    print(\"Congrats! The number was: \" + str(secret_number))\n",
        "\n",
        "if __name__ == \"__main__\":\n",
        "    guess()\n"
      ],
      "metadata": {
        "id": "R6TB19jp91xH"
      },
      "execution_count": null,
      "outputs": []
    },
    {
      "cell_type": "markdown",
      "source": [
        "\n",
        "# **04_Random_numbers**"
      ],
      "metadata": {
        "id": "7vj87_5J9XUC"
      }
    },
    {
      "cell_type": "code",
      "source": [
        "import random\n",
        "def random_number():\n",
        "  for i in range(10):\n",
        "    value=random.randint(1,100)\n",
        "    print(value)\n",
        "if __name__==\"__main__\":\n",
        "  random_number()"
      ],
      "metadata": {
        "colab": {
          "base_uri": "https://localhost:8080/"
        },
        "id": "qrR-1Gq89cDM",
        "outputId": "b407d3ba-9c01-4316-f120-5237d22d7da7"
      },
      "execution_count": 1,
      "outputs": [
        {
          "output_type": "stream",
          "name": "stdout",
          "text": [
            "51\n",
            "64\n",
            "72\n",
            "19\n",
            "3\n",
            "78\n",
            "39\n",
            "80\n",
            "16\n",
            "27\n"
          ]
        }
      ]
    }
  ]
}
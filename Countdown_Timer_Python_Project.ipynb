{
  "nbformat": 4,
  "nbformat_minor": 0,
  "metadata": {
    "colab": {
      "provenance": [],
      "authorship_tag": "ABX9TyOuKyw7RE0WhrdD0+eWvLv0",
      "include_colab_link": true
    },
    "kernelspec": {
      "name": "python3",
      "display_name": "Python 3"
    },
    "language_info": {
      "name": "python"
    }
  },
  "cells": [
    {
      "cell_type": "markdown",
      "metadata": {
        "id": "view-in-github",
        "colab_type": "text"
      },
      "source": [
        "<a href=\"https://colab.research.google.com/github/Dua456/GIAIC-Assignment-04/blob/main/Countdown_Timer_Python_Project.ipynb\" target=\"_parent\"><img src=\"https://colab.research.google.com/assets/colab-badge.svg\" alt=\"Open In Colab\"/></a>"
      ]
    },
    {
      "cell_type": "code",
      "source": [
        "import time\n",
        "def count_down(t):\n",
        "  while t:\n",
        "    mins,secs=divmod(t,60)\n",
        "    timer=\"{:02d}:{:02d}\".format(mins,secs)\n",
        "    print(timer,end=\"\\r\")\n",
        "    time.sleep(1)\n",
        "    t -= 1\n",
        "  print(\"Timer Stopped!\")\n",
        "t=input(\"Enter the time in seconds:\")\n",
        "count_down(int(t))"
      ],
      "metadata": {
        "colab": {
          "base_uri": "https://localhost:8080/"
        },
        "id": "WiUtUX732o5o",
        "outputId": "6d5f7d1b-37f4-457c-ae41-da8e4f57269b"
      },
      "execution_count": 18,
      "outputs": [
        {
          "output_type": "stream",
          "name": "stdout",
          "text": [
            "Enter the time in seconds:9\n",
            "Timer Stopped!\n"
          ]
        }
      ]
    }
  ]
}
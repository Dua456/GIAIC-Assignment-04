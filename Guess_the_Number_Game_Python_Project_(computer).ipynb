{
  "nbformat": 4,
  "nbformat_minor": 0,
  "metadata": {
    "colab": {
      "provenance": [],
      "authorship_tag": "ABX9TyO7U+IEhrXVI8JEt55Y6yNL",
      "include_colab_link": true
    },
    "kernelspec": {
      "name": "python3",
      "display_name": "Python 3"
    },
    "language_info": {
      "name": "python"
    }
  },
  "cells": [
    {
      "cell_type": "markdown",
      "metadata": {
        "id": "view-in-github",
        "colab_type": "text"
      },
      "source": [
        "<a href=\"https://colab.research.google.com/github/Dua456/GIAIC-Assignment-04/blob/main/Guess_the_Number_Game_Python_Project_(computer).ipynb\" target=\"_parent\"><img src=\"https://colab.research.google.com/assets/colab-badge.svg\" alt=\"Open In Colab\"/></a>"
      ]
    },
    {
      "cell_type": "code",
      "source": [
        "import random\n",
        "\n",
        "def guess(x):\n",
        "  random_number = random.randint(1,x)\n",
        "  guess = 0\n",
        "  while guess != random_number:\n",
        "    guess = int(input(f\"Guess a number between 1 and {x}:\"))\n",
        "    if guess < random_number:\n",
        "      print(\"Sorry , guess again , Too low\")\n",
        "    elif guess > random_number:\n",
        "      print(\"Sorry , guess again , Too high\")\n",
        "  print(f\"Congratulations! You have guessed the number {random_number} correctly!!!\")\n",
        "\n",
        "if __name__ == \"__main__\":\n",
        "  guess(10)\n"
      ],
      "metadata": {
        "colab": {
          "base_uri": "https://localhost:8080/"
        },
        "id": "oeVW5olbXSLj",
        "outputId": "ccc49f2c-1435-4a53-9715-e3099168af9a"
      },
      "execution_count": 5,
      "outputs": [
        {
          "output_type": "stream",
          "name": "stdout",
          "text": [
            "Guess a number between 1 and 10:4\n",
            "Sorry , guess again , Too low\n",
            "Guess a number between 1 and 10:6\n",
            "Congratulations! You have guessed the number 6 correctly!!!\n"
          ]
        }
      ]
    }
  ]
}
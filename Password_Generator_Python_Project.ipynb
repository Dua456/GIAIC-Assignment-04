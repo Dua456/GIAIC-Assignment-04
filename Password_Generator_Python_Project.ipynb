{
  "nbformat": 4,
  "nbformat_minor": 0,
  "metadata": {
    "colab": {
      "provenance": [],
      "authorship_tag": "ABX9TyNqk/G2zWjLG0JQHUX1geet",
      "include_colab_link": true
    },
    "kernelspec": {
      "name": "python3",
      "display_name": "Python 3"
    },
    "language_info": {
      "name": "python"
    }
  },
  "cells": [
    {
      "cell_type": "markdown",
      "metadata": {
        "id": "view-in-github",
        "colab_type": "text"
      },
      "source": [
        "<a href=\"https://colab.research.google.com/github/Dua456/GIAIC-Assignment-04/blob/main/Password_Generator_Python_Project.ipynb\" target=\"_parent\"><img src=\"https://colab.research.google.com/assets/colab-badge.svg\" alt=\"Open In Colab\"/></a>"
      ]
    },
    {
      "cell_type": "code",
      "source": [],
      "metadata": {
        "id": "awMqRorsZEOR"
      },
      "execution_count": null,
      "outputs": []
    },
    {
      "cell_type": "code",
      "execution_count": null,
      "metadata": {
        "colab": {
          "base_uri": "https://localhost:8080/"
        },
        "id": "ZxGjZfZqa7iG",
        "outputId": "db01795c-1386-477d-c254-24ed202e27cb"
      },
      "outputs": [
        {
          "output_type": "stream",
          "name": "stdout",
          "text": [
            "Welcome to your Password Generator\n",
            "Amount of passwords to generate: ? 7\n",
            "Input your password length: ? 9\n",
            "\n",
            " here are your passwords: \n",
            "Y8Ff(X5gI\n",
            "pKSvC$r0Q\n",
            "DRGS6O5mO\n",
            "DKSgUuDU%\n",
            "MIPHXj2Cz\n",
            "3^*eibFX8\n",
            "p4g)C6hv5\n"
          ]
        }
      ],
      "source": [
        "import random\n",
        "print(\"Welcome to your Password Generator\")\n",
        "\n",
        "chars='abcdefghijklmnopqrstuvwxyzABCDEFGHIJKLMNOPQRSTUVWXYZ!@#$%^&*()1234567890'\n",
        "\n",
        "number=input(\"Amount of passwords to generate: ? \")\n",
        "number=int(number)\n",
        "\n",
        "length=input(\"Input your password length: ? \")\n",
        "length=int(length)\n",
        "\n",
        "print(\"\\n here are your passwords: \")\n",
        "\n",
        "for pwd in range(number):\n",
        "  passwords=\"\"\n",
        "  for c in range(length):\n",
        "    passwords+=random.choice(chars)\n",
        "  print(passwords)\n",
        "\n"
      ]
    }
  ]
}
{
  "nbformat": 4,
  "nbformat_minor": 0,
  "metadata": {
    "colab": {
      "provenance": [],
      "authorship_tag": "ABX9TyOqXq1KTFrqU/u4X6wQzSF4",
      "include_colab_link": true
    },
    "kernelspec": {
      "name": "python3",
      "display_name": "Python 3"
    },
    "language_info": {
      "name": "python"
    }
  },
  "cells": [
    {
      "cell_type": "markdown",
      "metadata": {
        "id": "view-in-github",
        "colab_type": "text"
      },
      "source": [
        "<a href=\"https://colab.research.google.com/github/Dua456/GIAIC-Assignment-04/blob/main/Rock%2C_paper%2C_scissors_Python_Project.ipynb\" target=\"_parent\"><img src=\"https://colab.research.google.com/assets/colab-badge.svg\" alt=\"Open In Colab\"/></a>"
      ]
    },
    {
      "cell_type": "code",
      "source": [
        "import random\n",
        "def play():\n",
        "  user=input(\" what\\'s your choice? 'r' for rock ,  'p' for paper  and 's' for scissors \" )\n",
        "  computer=random.choice(['r','p','s'])\n",
        "\n",
        "  if user == computer:\n",
        "    return \"it\\'s a tie\"\n",
        "\n",
        "  if is_win(user,computer):\n",
        "    return 'you won'\n",
        "\n",
        "  return 'you lost'\n",
        "\n",
        "def is_win(player,opponent):\n",
        "  if(player=='r' and opponent=='s') or (player=='s' and opponent=='p')or (player=='p' and opponent=='r'):\n",
        "    return True\n",
        "\n",
        "if __name__ == '__main__':\n",
        "  print(play())"
      ],
      "metadata": {
        "colab": {
          "base_uri": "https://localhost:8080/"
        },
        "id": "AfGZDygklMbX",
        "outputId": "249f63b8-a216-4631-bd84-2f5a0c36fee7"
      },
      "execution_count": 15,
      "outputs": [
        {
          "output_type": "stream",
          "name": "stdout",
          "text": [
            " what's your choice? 'r' for rock ,  'p' for paper  and 's' for scissors s\n",
            "you won\n"
          ]
        }
      ]
    }
  ]
}
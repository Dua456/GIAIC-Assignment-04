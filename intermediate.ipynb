{
  "nbformat": 4,
  "nbformat_minor": 0,
  "metadata": {
    "colab": {
      "provenance": [],
      "authorship_tag": "ABX9TyM/3gtX+4+wnCI/HGt/kP93",
      "include_colab_link": true
    },
    "kernelspec": {
      "name": "python3",
      "display_name": "Python 3"
    },
    "language_info": {
      "name": "python"
    }
  },
  "cells": [
    {
      "cell_type": "markdown",
      "metadata": {
        "id": "view-in-github",
        "colab_type": "text"
      },
      "source": [
        "<a href=\"https://colab.research.google.com/github/Dua456/GIAIC-Assignment-04/blob/main/intermediate.ipynb\" target=\"_parent\"><img src=\"https://colab.research.google.com/assets/colab-badge.svg\" alt=\"Open In Colab\"/></a>"
      ]
    },
    {
      "cell_type": "markdown",
      "source": [
        "# **problem: High Low**"
      ],
      "metadata": {
        "id": "KrnDkEr7-wyw"
      }
    },
    {
      "cell_type": "code",
      "source": [
        "import random\n",
        "\n",
        "rounds = 5\n",
        "\n",
        "def higher_lower():\n",
        "    print(\"Welcome to the High-Low Game!\")\n",
        "    your_score = 0\n",
        "    for i in range(rounds):\n",
        "        print(\"Round\", i + 1)\n",
        "        computer_number = random.randint(1, 100)\n",
        "        your_number = random.randint(1, 100)\n",
        "        print(\"Your number is:\", your_number)\n",
        "        choice = input(\"Do you think your number is higher or lower than the computer's? (higher/lower): \")\n",
        "\n",
        "        while choice != \"higher\" and choice != \"lower\":\n",
        "            print(\"Invalid input. Please enter 'higher' or 'lower'.\")\n",
        "            choice = input(\"Try again (higher/lower): \")\n",
        "\n",
        "        higher_and_correct = choice == \"higher\" and your_number > computer_number\n",
        "        lower_and_correct = choice == \"lower\" and your_number < computer_number\n",
        "\n",
        "        if higher_and_correct or lower_and_correct:\n",
        "            print(\"Correct! 🎉\")\n",
        "            your_score += 1\n",
        "        else:\n",
        "            print(\"Wrong! 😞\")\n",
        "        print(f\"The computer's number was: {computer_number}\\n\")\n",
        "\n",
        "    print(\"Game Over!\")\n",
        "    print(f\"Your final score: {your_score} out of {rounds}\")\n",
        "\n",
        "    if your_score >= 3:\n",
        "        print(\"Good job, you played really well!\")\n",
        "    else:\n",
        "        print(\"Better luck next time!\")\n",
        "\n",
        "if __name__ == \"__main__\":\n",
        "    higher_lower()\n"
      ],
      "metadata": {
        "colab": {
          "base_uri": "https://localhost:8080/"
        },
        "id": "divR11-5-_1W",
        "outputId": "7a796524-49e7-48c4-806e-55ff4a7dccfc"
      },
      "execution_count": null,
      "outputs": [
        {
          "output_type": "stream",
          "name": "stdout",
          "text": [
            "Welcome to the High-Low Game!\n",
            "Round 1\n",
            "Your number is: 54\n",
            "Do you think your number is higher or lower than the computer's? (higher/lower): higher\n",
            "Wrong! 😞\n",
            "The computer's number was: 55\n",
            "\n",
            "Round 2\n",
            "Your number is: 81\n",
            "Do you think your number is higher or lower than the computer's? (higher/lower): lower\n",
            "Correct! 🎉\n",
            "The computer's number was: 85\n",
            "\n",
            "Round 3\n",
            "Your number is: 48\n",
            "Do you think your number is higher or lower than the computer's? (higher/lower): higher\n",
            "Correct! 🎉\n",
            "The computer's number was: 43\n",
            "\n",
            "Round 4\n",
            "Your number is: 32\n",
            "Do you think your number is higher or lower than the computer's? (higher/lower): lower\n",
            "Correct! 🎉\n",
            "The computer's number was: 36\n",
            "\n",
            "Round 5\n",
            "Your number is: 70\n",
            "Do you think your number is higher or lower than the computer's? (higher/lower): lower\n",
            "Wrong! 😞\n",
            "The computer's number was: 16\n",
            "\n",
            "Game Over!\n",
            "Your final score: 3 out of 5\n",
            "Good job, you played really well!\n"
          ]
        }
      ]
    },
    {
      "cell_type": "markdown",
      "source": [
        "# **Problem: Planetary Weight Calculator**"
      ],
      "metadata": {
        "id": "liNHkNa0AB9k"
      }
    },
    {
      "cell_type": "code",
      "source": [
        "def planetary_weight_calculator():\n",
        "    MERCURY_GRAVITY = 0.376\n",
        "    VENUS_GRAVITY = 0.889\n",
        "    MARS_GRAVITY = 0.378\n",
        "    JUPITER_GRAVITY = 2.36\n",
        "    SATURN_GRAVITY = 1.081\n",
        "    URANUS_GRAVITY = 0.815\n",
        "    NEPTUNE_GRAVITY = 1.14\n",
        "\n",
        "    gravity_constant = None\n",
        "\n",
        "    print(\" Welcome to the Space Weight Converter! \")\n",
        "    earth_weight = input(\" Please enter your weight on Earth (in kg): \")\n",
        "    earth_weight = float(earth_weight)\n",
        "\n",
        "    planet = input(\" Choose a planet to see your weight there (e.g., Mars, Jupiter): \")\n",
        "\n",
        "    if planet == \"Mercury\":\n",
        "        gravity_constant = MERCURY_GRAVITY\n",
        "    elif planet == \"Venus\":\n",
        "        gravity_constant = VENUS_GRAVITY\n",
        "    elif planet == \"Mars\":\n",
        "        gravity_constant = MARS_GRAVITY\n",
        "    elif planet == \"Jupiter\":\n",
        "        gravity_constant = JUPITER_GRAVITY\n",
        "    elif planet == \"Saturn\":\n",
        "        gravity_constant = SATURN_GRAVITY\n",
        "    elif planet == \"Uranus\":\n",
        "        gravity_constant = URANUS_GRAVITY\n",
        "    elif planet == \"Neptune\":\n",
        "        gravity_constant = NEPTUNE_GRAVITY\n",
        "\n",
        "    if gravity_constant is not None:\n",
        "        planetary_weight = earth_weight * gravity_constant\n",
        "        rounded_planetary_weight = round(planetary_weight, 2)\n",
        "        print(f\" Amazing! Your weight on {planet} would be {rounded_planetary_weight} kg.\")\n",
        "        print(\" Thanks for exploring space with us!\")\n",
        "    else:\n",
        "        print(\" Oops! That doesn't seem to be a valid planet. Please try again with a correct name.\")\n",
        "\n",
        "if __name__ == \"__main__\":\n",
        "    planetary_weight_calculator()\n"
      ],
      "metadata": {
        "colab": {
          "base_uri": "https://localhost:8080/"
        },
        "id": "E3yeh2x1D4zO",
        "outputId": "f5a7d149-1c13-4e92-92f7-6fa583617b9f"
      },
      "execution_count": 7,
      "outputs": [
        {
          "output_type": "stream",
          "name": "stdout",
          "text": [
            " Welcome to the Space Weight Converter! \n",
            " Please enter your weight on Earth (in kg): 80\n",
            " Choose a planet to see your weight there (e.g., Mars, Jupiter): Mars\n",
            " Amazing! Your weight on Mars would be 30.24 kg.\n",
            " Thanks for exploring space with us!\n"
          ]
        }
      ]
    },
    {
      "cell_type": "markdown",
      "source": [
        "# **Problem 1: List Practice**"
      ],
      "metadata": {
        "id": "2ICK7uDwEGOh"
      }
    },
    {
      "cell_type": "code",
      "source": [
        "def fruit_list():\n",
        "  fruits=[\"apple\",\"mango\",\"banana\",\"orange\",\"grape\",\"pineapple\"]\n",
        "  print(\"fruits list\",fruits)\n",
        "  fruits.append(\"kiwi\")\n",
        "  print(\"updated list\",fruits)\n",
        "\n",
        "if __name__==\"__main__\":\n",
        "  fruit_list()"
      ],
      "metadata": {
        "colab": {
          "base_uri": "https://localhost:8080/"
        },
        "id": "4jvYulgxEMDw",
        "outputId": "ad6457ef-d51a-424b-d170-f30a9e721771"
      },
      "execution_count": 8,
      "outputs": [
        {
          "output_type": "stream",
          "name": "stdout",
          "text": [
            "fruits list ['apple', 'mango', 'banana', 'orange', 'grape', 'pineapple']\n",
            "updated list ['apple', 'mango', 'banana', 'orange', 'grape', 'pineapple', 'kiwi']\n"
          ]
        }
      ]
    },
    {
      "cell_type": "markdown",
      "source": [
        "# **Problem 2: Index Game**"
      ],
      "metadata": {
        "id": "wVsHsL40EWI8"
      }
    },
    {
      "cell_type": "code",
      "source": [
        "def access_element(my_list, index):\n",
        "    try:\n",
        "        return my_list[index]\n",
        "    except IndexError:\n",
        "        return \"⚠️ Oops! That index doesn't exist in the list.\"\n",
        "\n",
        "def modify_element(my_list, index, new_value):\n",
        "    try:\n",
        "        my_list[index] = new_value\n",
        "        return my_list\n",
        "    except IndexError:\n",
        "        return \" Cannot modify. Index is out of range.\"\n",
        "\n",
        "def slice_list(my_list, start, end):\n",
        "    try:\n",
        "        return my_list[start:end]\n",
        "    except IndexError:\n",
        "        return \" Invalid range of indices.\"\n",
        "\n",
        "def index_game():\n",
        "    fruits = [\" Apple\", \" Mango\", \" Banana\", \" Orange\", \" Grapes\"]\n",
        "    print(\"📋 Here is your fruit list:\", fruits)\n",
        "    print(\"\\n🔧 Choose an action to perform: [access] [modify] [slice]\")\n",
        "\n",
        "    operation = input(\" Enter your choice: \").strip().lower()\n",
        "\n",
        "    if operation == \"access\":\n",
        "        index = int(input(\" Enter the index number you want to access: \"))\n",
        "        print(\"✅ Result:\", access_element(fruits, index))\n",
        "\n",
        "    elif operation == \"modify\":\n",
        "        index = int(input(\" Enter the index you want to change: \"))\n",
        "        new_value = input(\" Enter the new fruit name: \")\n",
        "        print(\"✅ Updated List:\", modify_element(fruits, index, new_value))\n",
        "\n",
        "    elif operation == \"slice\":\n",
        "        start = int(input(\" Enter the start index: \"))\n",
        "        end = int(input(\" Enter the end index: \"))\n",
        "        print(\"✅ Sliced List:\", slice_list(fruits, start, end))\n",
        "\n",
        "    else:\n",
        "        print(\"❌ Invalid choice. Please select 'access', 'modify', or 'slice'.\")\n",
        "\n",
        "if __name__ == \"__main__\":\n",
        "    index_game()\n"
      ],
      "metadata": {
        "colab": {
          "base_uri": "https://localhost:8080/"
        },
        "id": "awo_kZQ1EZ_V",
        "outputId": "d39ecb51-403d-4a51-eaef-e82f60c4179c"
      },
      "execution_count": 14,
      "outputs": [
        {
          "output_type": "stream",
          "name": "stdout",
          "text": [
            "📋 Here is your fruit list: [' Apple', ' Mango', ' Banana', ' Orange', ' Grapes']\n",
            "\n",
            "🔧 Choose an action to perform: [access] [modify] [slice]\n",
            " Enter your choice: slice\n",
            " Enter the start index: 1\n",
            " Enter the end index: 3\n",
            "✅ Sliced List: [' Mango', ' Banana']\n"
          ]
        }
      ]
    }
  ]
}